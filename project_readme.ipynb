{
 "cells": [
  {
   "cell_type": "markdown",
   "metadata": {},
   "source": [
    "### Project Overview\n",
    "The Boston housing market is highly competitive, and you want to be the best real estate agent in the area. To compete with your peers, you decide to leverage a few basic machine learning concepts to assist you and a client with finding the best selling price for their home. Luckily, you’ve come across the Boston Housing dataset which contains aggregated data on various features for houses in Greater Boston communities, including the median value of homes for each of those areas. Your task is to build an optimal model based on a statistical analysis with the tools available. This model will then be used to estimate the best selling price for your clients' homes.\n",
    "\n",
    "### Project Highlights\n",
    "This project is designed to get you acquainted with the many techniques for training, testing, evaluating, and optimizing models, available in sklearn.\n",
    "\n",
    "Things you will learn by completing this project:\n",
    "\n",
    "* How to explore data and observe features.\n",
    "* How to train and test models.\n",
    "* How to identify potential problems, such as errors due to bias or variance.\n",
    "* How to apply techniques to improve the model, such as cross-validation and grid search."
   ]
  },
  {
   "cell_type": "markdown",
   "metadata": {},
   "source": [
    "### Starting the Project\n",
    "This project contains three files:\n",
    "\n",
    "`boston_housing.ipynb`: This is the main file where you will be performing your work on the project.\n",
    "\n",
    "`housing.csv`: The project dataset. You'll load this data in the notebook.\n",
    "\n",
    "`visuals.py`: This Python script provides supplementary visualizations for the project. Do not modify.\n",
    "\n",
    "In the Terminal or Command Prompt, navigate to the folder containing the project files, and then use the command `jupyter notebook boston_housing.ipynb` to open up a browser window or tab to work with your notebook. Alternatively, you can use the command `jupyter notebook` or `ipython notebook` and navigate to the notebook file in the browser window that opens. Follow the instructions in the notebook and answer each question presented to successfully complete the project. A **README** file has also been provided with the project files which may contain additional necessary information or instruction for the project."
   ]
  },
  {
   "cell_type": "code",
   "execution_count": null,
   "metadata": {},
   "outputs": [],
   "source": []
  }
 ],
 "metadata": {
  "kernelspec": {
   "display_name": "Python 3",
   "language": "python",
   "name": "python3"
  },
  "language_info": {
   "codemirror_mode": {
    "name": "ipython",
    "version": 3
   },
   "file_extension": ".py",
   "mimetype": "text/x-python",
   "name": "python",
   "nbconvert_exporter": "python",
   "pygments_lexer": "ipython3",
   "version": "3.7.1"
  }
 },
 "nbformat": 4,
 "nbformat_minor": 2
}
